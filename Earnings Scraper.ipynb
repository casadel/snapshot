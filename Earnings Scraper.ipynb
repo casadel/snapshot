{
 "cells": [
  {
   "cell_type": "markdown",
   "metadata": {},
   "source": [
    "The goal here is to write a function snapshot() that will obtain a company's quarterly earnings report from its investor relations website and output the relative metrics with which we are concerned (a \"snapshot\" of the report). In many cases, these metrics will consist of a company's current quarter earnings per share (EPS), current quarter revenue, and estimates for what these metrics will be in the next quarter, known as the \"guidance\". For many companies, however, there are various other metrics that concern us in addition to these, or in some cases instead of. Furthermore, with all the companies that report their quarterly earnings on their IR websites, there exists very little uniformity in the way in which their reports are structured. Thus, we have our work cut out for us.\n",
    "\n",
    "To start, we will try to parse the releases of Twitter Inc (TWTR), Netflix (NFLX), Tesla Motors (TSLA), and Amazon.com (AMZN). For each of these companies, we are primarily concerned with identifying GAAP EPS and revenue along with guidance for these metrics for next quarter. For Amazon, we are also concerned with identifying revenue brought in from Amazon web services.\n",
    "\n",
    "First task is to obtain the reports from the websites. In practice, we will want to have to program running maybe one minute before the expected earnings report time so that it is refreshing the page every tenth of a second or so and can have the report text the second it is released by the website. Reports are usually released as PDFs, although for NVDA they report in a press release in HTML format so we may have to account for this possibility.\n",
    "\n",
    "Most companies structure their reports such that there it consists of dialogue talking about the metrics followed by a table of comprehensive metrics and numbers. Will probably want to pull separate the two so they are individually parsable\n"
   ]
  },
  {
   "cell_type": "markdown",
   "metadata": {},
   "source": [
    "TODO:\n",
    "\n",
    "create IR list: list of tickers and their associated IR urls\n",
    "\n",
    "create metlist: list of tickers and the associated metrics that we want from each one\n",
    "    \n",
    "snapshot(ticker)\n",
    "    \n",
    "    get_report(ticker, IRlist)\n",
    "    {\n",
    "        refresh(IR site link)\n",
    "        save file to memory\n",
    "        convert to raw text\n",
    "        output report\n",
    "    }\n",
    "    get_table(report)\n",
    "    {\n",
    "        find table of metrics within report (if there is one) and read into dataframe\n",
    "        output met_tab\n",
    "    }\n",
    "    get_text(report)\n",
    "    {\n",
    "        identify all written dialogue in report that stands apart from table and pull out\n",
    "        output report_words\n",
    "    }\n",
    "    what_metrix(ticker, metlist)\n",
    "    {\n",
    "        pull from manually created list of what metrics we want for what ticker\n",
    "        create list of mets we want\n",
    "        output met list\n",
    "    }\n",
    "    get_metrics(met_list, report_words, met_tab)\n",
    "    {\n",
    "        get_eps(met_tab)\n",
    "        get_rev(met_tab)\n",
    "        get_....othermets(report_words)\n",
    "        output mets\n",
    "    }\n",
    "    report(mets_list, mets)\n",
    "    {\n",
    "        pair mets_list with mets (numbers) and create list in most readable format\n",
    "        output snapshot\n",
    "    }\n",
    "    print snapshot\n"
   ]
  },
  {
   "cell_type": "code",
   "execution_count": 2,
   "metadata": {
    "collapsed": true
   },
   "outputs": [],
   "source": [
    "%matplotlib inline\n",
    "import numpy as np\n",
    "import scipy as sp\n",
    "import matplotlib as mpl\n",
    "import matplotlib.cm as cm\n",
    "import matplotlib.pyplot as plt\n",
    "import pandas as pd\n",
    "pd.set_option('display.width', 500)\n",
    "pd.set_option('display.max_columns', 100)\n",
    "pd.set_option('display.notebook_repr_html', True)\n",
    "import seaborn as sns\n",
    "sns.set_style(\"whitegrid\")\n",
    "sns.set_context(\"poster\")\n",
    "\n",
    "import requests\n",
    "import time\n",
    "import json\n",
    "from bs4 import BeautifulSoup\n",
    "import sys"
   ]
  },
  {
   "cell_type": "code",
   "execution_count": 3,
   "metadata": {
    "collapsed": true
   },
   "outputs": [],
   "source": [
    "tix = ['TWTR', 'TSLA', 'NFLX', 'AMZN']\n",
    "links = ['https://investor.twitterinc.com/index.cfm', 'http://ir.tesla.com/', 'https://ir.netflix.com/' ,'http://phx.corporate-ir.net/phoenix.zhtml?c=97664&p=irol-reportsOther']\n",
    "\n",
    "ir_dict = dict(zip(tix, links))"
   ]
  },
  {
   "cell_type": "code",
   "execution_count": 16,
   "metadata": {
    "collapsed": false
   },
   "outputs": [
    {
     "data": {
      "text/plain": [
       "'https://ir.netflix.com/'"
      ]
     },
     "execution_count": 16,
     "metadata": {},
     "output_type": "execute_result"
    }
   ],
   "source": [
    "ir_dict['NFLX']"
   ]
  },
  {
   "cell_type": "code",
   "execution_count": null,
   "metadata": {
    "collapsed": true
   },
   "outputs": [],
   "source": [
    "def get_report(tick):\n",
    "    ir_link = ir_dict[tick]\n",
    "    ir_page = requests.get(ir_link)"
   ]
  },
  {
   "cell_type": "code",
   "execution_count": 5,
   "metadata": {
    "collapsed": false
   },
   "outputs": [],
   "source": [
    "page = requests.get(ir_dict['NFLX'])"
   ]
  },
  {
   "cell_type": "code",
   "execution_count": 6,
   "metadata": {
    "collapsed": false
   },
   "outputs": [],
   "source": [
    "soup = BeautifulSoup(page.text, 'html.parser')"
   ]
  },
  {
   "cell_type": "code",
   "execution_count": 8,
   "metadata": {
    "collapsed": false
   },
   "outputs": [],
   "source": [
    "q3_html = soup.find('div', id='Results32016')"
   ]
  },
  {
   "cell_type": "code",
   "execution_count": 20,
   "metadata": {
    "collapsed": false
   },
   "outputs": [
    {
     "data": {
      "text/plain": [
       "u'https://ir.netflix.com/common/download/download.cfm?companyid=NFLX&fileid=912075&filekey=700E14FD-12BE-4C3A-9283-9A975C7FE549&filename=FINAL_Q3_Letter.pdf'"
      ]
     },
     "execution_count": 20,
     "metadata": {},
     "output_type": "execute_result"
    }
   ],
   "source": [
    "link = q3_html.find('a').get('href')\n",
    "link = ir_dict['NFLX'][:-1] + link\n",
    "link"
   ]
  },
  {
   "cell_type": "code",
   "execution_count": 29,
   "metadata": {
    "collapsed": false
   },
   "outputs": [],
   "source": [
    "pdfile = requests.get(link)\n",
    "with open('nflx.pdf', 'wb') as f:\n",
    "    f.write(pdfile.content)"
   ]
  },
  {
   "cell_type": "code",
   "execution_count": null,
   "metadata": {
    "collapsed": true
   },
   "outputs": [],
   "source": []
  }
 ],
 "metadata": {
  "kernelspec": {
   "display_name": "Python 2",
   "language": "python",
   "name": "python2"
  },
  "language_info": {
   "codemirror_mode": {
    "name": "ipython",
    "version": 2
   },
   "file_extension": ".py",
   "mimetype": "text/x-python",
   "name": "python",
   "nbconvert_exporter": "python",
   "pygments_lexer": "ipython2",
   "version": "2.7.10"
  }
 },
 "nbformat": 4,
 "nbformat_minor": 0
}
