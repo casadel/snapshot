{
 "cells": [
  {
   "cell_type": "markdown",
   "metadata": {},
   "source": [
    "#NEWSWATCH SUPERFILTERS\n",
    "\n",
    "Motivation: We hope to conduct a text analysis of breaking news headlines and associated reports pulled from newswatch and entered into a spreadsheet by our team. All the articles in our database resulted in tangible price movements in the associated stocks and were available immediately upon release through newswatch. We will be seeking to identify keywords, phrases, and article tags that show up across a variety of news headlines with the intention of using the results to tailor newswatch filters such that we can get the news and see it right away.\n",
    "\n",
    "Specifically, we will start by investigating headlines in three key areas:\n",
    "    - Dow Jones General Headlines\n",
    "    - Biotech\n",
    "    - M/A\n",
    "And will seek to further categorize headlines within these groups"
   ]
  },
  {
   "cell_type": "code",
   "execution_count": 1,
   "metadata": {
    "collapsed": false
   },
   "outputs": [],
   "source": [
    "%matplotlib inline\n",
    "import numpy as np\n",
    "import scipy as sp\n",
    "import matplotlib as mpl\n",
    "import matplotlib.cm as cm\n",
    "import matplotlib.pyplot as plt\n",
    "import pandas as pd\n",
    "pd.set_option('display.width', 500)\n",
    "pd.set_option('display.max_columns', 100)\n",
    "pd.set_option('display.notebook_repr_html', True)\n",
    "import seaborn as sns\n",
    "sns.set_style(\"whitegrid\")\n",
    "sns.set_context(\"poster\")\n",
    "from collections import Counter\n",
    "import codecs\n",
    "\n",
    "import nltk\n",
    "from nltk.collocations import *\n",
    "from nltk.tokenize import word_tokenize\n",
    "from nltk import FreqDist\n",
    "from nltk.corpus import stopwords\n",
    "\n",
    "#nltk.download('stopwords')\n",
    "#nltk.download(\"genesis\")\n",
    "#nltk.download('punkt')"
   ]
  },
  {
   "cell_type": "markdown",
   "metadata": {},
   "source": [
    "Read in Headline Spreadsheet, saved from google sheets"
   ]
  },
  {
   "cell_type": "code",
   "execution_count": 114,
   "metadata": {
    "collapsed": false
   },
   "outputs": [
    {
     "data": {
      "text/html": [
       "<div>\n",
       "<table border=\"1\" class=\"dataframe\">\n",
       "  <thead>\n",
       "    <tr style=\"text-align: right;\">\n",
       "      <th></th>\n",
       "      <th>Ticker(s)</th>\n",
       "      <th>Date</th>\n",
       "      <th>Headline Type</th>\n",
       "      <th>Headline Sub Type</th>\n",
       "      <th>Vendor</th>\n",
       "      <th>Headline</th>\n",
       "      <th>Tags</th>\n",
       "      <th>Text</th>\n",
       "      <th>Clean Text</th>\n",
       "      <th>Text Timing</th>\n",
       "      <th>Stock Reaction</th>\n",
       "    </tr>\n",
       "  </thead>\n",
       "  <tbody>\n",
       "    <tr>\n",
       "      <th>0</th>\n",
       "      <td>BCRX</td>\n",
       "      <td>2/8/16</td>\n",
       "      <td>Biotech</td>\n",
       "      <td>Clincal</td>\n",
       "      <td>Dow Jones</td>\n",
       "      <td>biocryst announces results from opus-2</td>\n",
       "      <td>[S.DJ, BCRX, .NASDAQ, US09058V1035, I/BTC, .BI...</td>\n",
       "      <td>biocryst announces results from opus-2\\r  rese...</td>\n",
       "      <td>biocryst announces results from opus-2   resea...</td>\n",
       "      <td>NaN</td>\n",
       "      <td>-60%</td>\n",
       "    </tr>\n",
       "    <tr>\n",
       "      <th>1</th>\n",
       "      <td>NVLS</td>\n",
       "      <td>11/28/16</td>\n",
       "      <td>Biotech</td>\n",
       "      <td>Clincal</td>\n",
       "      <td>Dow Jones GI</td>\n",
       "      <td>: nivalis therapeutics announces results from ...</td>\n",
       "      <td>[S.GI, NVLS, .NASDAQ, US65481J1097, I/DRG, .PH...</td>\n",
       "      <td>nivalis therapeutics announces results from ph...</td>\n",
       "      <td>nivalis therapeutics announces results from ph...</td>\n",
       "      <td>NaN</td>\n",
       "      <td>-50%</td>\n",
       "    </tr>\n",
       "    <tr>\n",
       "      <th>2</th>\n",
       "      <td>NOVN</td>\n",
       "      <td>11/29/16</td>\n",
       "      <td>Biotech</td>\n",
       "      <td>Clincal</td>\n",
       "      <td>Dow Jones GI</td>\n",
       "      <td>: novan announces statistically significant ph...</td>\n",
       "      <td>[S.GI, NOVN, .NASDAQ, US66988N1063, I/BTC, .BI...</td>\n",
       "      <td>novan announces statistically significant phas...</td>\n",
       "      <td>novan announces statistically significant phas...</td>\n",
       "      <td>NaN</td>\n",
       "      <td>10%</td>\n",
       "    </tr>\n",
       "    <tr>\n",
       "      <th>3</th>\n",
       "      <td>ATRA</td>\n",
       "      <td>12/14/15</td>\n",
       "      <td>Biotech</td>\n",
       "      <td>Clinical</td>\n",
       "      <td>Dow Jones</td>\n",
       "      <td>atara bio announces results from the phase2 pr...</td>\n",
       "      <td>[S.DJ, ATRA, .NASDAQ, US0465131078, I/BTC, .BI...</td>\n",
       "      <td>atara bio announces results from the phase2 pr...</td>\n",
       "      <td>atara bio announces results from the phase2 pr...</td>\n",
       "      <td>NaN</td>\n",
       "      <td>-40%</td>\n",
       "    </tr>\n",
       "    <tr>\n",
       "      <th>4</th>\n",
       "      <td>ALKS</td>\n",
       "      <td>1/21/16</td>\n",
       "      <td>Biotech</td>\n",
       "      <td>Clinical</td>\n",
       "      <td>Dow Jones</td>\n",
       "      <td>alkermes announces topline results of forward-...</td>\n",
       "      <td>[S.DJ, ALKS, .NASDAQ, IE00B56GVS15, I/BTC, .BI...</td>\n",
       "      <td>alkermes announces topline results of forward-...</td>\n",
       "      <td>alkermes announces topline results of forward-...</td>\n",
       "      <td>NaN</td>\n",
       "      <td>-40%</td>\n",
       "    </tr>\n",
       "  </tbody>\n",
       "</table>\n",
       "</div>"
      ],
      "text/plain": [
       "  Ticker(s)      Date Headline Type Headline Sub Type        Vendor                                           Headline                                               Tags                                               Text                                         Clean Text Text Timing Stock Reaction\n",
       "0      BCRX    2/8/16       Biotech           Clincal     Dow Jones             biocryst announces results from opus-2  [S.DJ, BCRX, .NASDAQ, US09058V1035, I/BTC, .BI...  biocryst announces results from opus-2\\r  rese...  biocryst announces results from opus-2   resea...         NaN           -60%\n",
       "1      NVLS  11/28/16       Biotech           Clincal  Dow Jones GI  : nivalis therapeutics announces results from ...  [S.GI, NVLS, .NASDAQ, US65481J1097, I/DRG, .PH...  nivalis therapeutics announces results from ph...  nivalis therapeutics announces results from ph...         NaN           -50%\n",
       "2      NOVN  11/29/16       Biotech           Clincal  Dow Jones GI  : novan announces statistically significant ph...  [S.GI, NOVN, .NASDAQ, US66988N1063, I/BTC, .BI...  novan announces statistically significant phas...  novan announces statistically significant phas...         NaN            10%\n",
       "3      ATRA  12/14/15       Biotech          Clinical     Dow Jones  atara bio announces results from the phase2 pr...  [S.DJ, ATRA, .NASDAQ, US0465131078, I/BTC, .BI...  atara bio announces results from the phase2 pr...  atara bio announces results from the phase2 pr...         NaN           -40%\n",
       "4      ALKS   1/21/16       Biotech          Clinical     Dow Jones  alkermes announces topline results of forward-...  [S.DJ, ALKS, .NASDAQ, IE00B56GVS15, I/BTC, .BI...  alkermes announces topline results of forward-...  alkermes announces topline results of forward-...         NaN           -40%"
      ]
     },
     "execution_count": 114,
     "metadata": {},
     "output_type": "execute_result"
    }
   ],
   "source": [
    "news_df = pd.read_csv('HeadlineSpreadsheet.csv')\n",
    "ind = news_df.index\n",
    "\n",
    "remove_list = ['press release: ', 'dj: press release: ', 'top-line', 'phase 1', 'phase 2', 'phase 3', 'dj', 'u.s.']\n",
    "replace_list = ['', '', 'topline', 'phase1', 'phase2', 'phase3', '', 'us']\n",
    "\n",
    "for num in ind:\n",
    "    news_df.loc[num, 'Tags'] = news_df.loc[num, 'Tags'].split()\n",
    "    \n",
    "    headline = news_df.Headline[num]\n",
    "    text = news_df.Text[num]\n",
    "    c_txt = news_df['Clean Text'][num]\n",
    "    \n",
    "    news_df.loc[num, 'Headline'] = headline.lower()\n",
    "    news_df.loc[num, 'Text'] = text.lower()\n",
    "    news_df.loc[num, 'Clean Text'] = c_txt.lower()\n",
    "    \n",
    "    for rem, rep in zip(remove_list, replace_list):\n",
    "        headline = news_df.Headline[num]\n",
    "        text = news_df.Text[num]\n",
    "        c_txt = news_df['Clean Text'][num]\n",
    "        news_df.loc[num, 'Headline'] = headline.replace(rem, rep)\n",
    "        news_df.loc[num, 'Text'] = text.replace(rem, rep)\n",
    "        news_df.loc[num, 'Clean Text'] = c_txt.replace(rem, rep)\n",
    "\n",
    "news_df.head()"
   ]
  },
  {
   "cell_type": "markdown",
   "metadata": {},
   "source": [
    "Subset the dataframe and analyze tags, headlines, text\n",
    "\n",
    "###Most common tags by group"
   ]
  },
  {
   "cell_type": "code",
   "execution_count": 115,
   "metadata": {
    "collapsed": false
   },
   "outputs": [
    {
     "data": {
      "text/plain": [
       "[('M/HCR', 7),\n",
       " ('N/PRL', 7),\n",
       " ('N/CNW', 7),\n",
       " ('.HEALTH', 7),\n",
       " ('N/WED', 7),\n",
       " ('N/WER', 7),\n",
       " ('N/DJGV', 7),\n",
       " ('N/DJGP', 7),\n",
       " ('N/DJGS', 7),\n",
       " ('P/ABO', 7),\n",
       " ('P/TAP', 7),\n",
       " ('M/TPX', 7),\n",
       " ('N/TPCT', 7),\n",
       " ('N/DN', 7),\n",
       " ('N/DJIV', 7),\n",
       " ('P/WMMI', 7),\n",
       " ('P/SGN', 7),\n",
       " ('P/AEQI', 7),\n",
       " ('I/XRUS', 7),\n",
       " ('N/DJG', 7),\n",
       " ('N/DJN', 7),\n",
       " ('N/DJI', 7),\n",
       " ('N/DJWI', 7),\n",
       " ('N/DJPT', 7),\n",
       " ('N/DJPN', 7)]"
      ]
     },
     "execution_count": 115,
     "metadata": {},
     "output_type": "execute_result"
    }
   ],
   "source": [
    "sub_df = news_df[news_df['Headline Type']=='Biotech']\n",
    "subsub = sub_df[sub_df['Headline Sub Type'] == 'Regulatory']\n",
    "        \n",
    "tags = subsub[(subsub.Vendor == 'Dow Jones') | (subsub.Vendor == 'Dow Jones GI')].Tags\n",
    "tag_list = []\n",
    "for group in tags:\n",
    "    for tag in group:\n",
    "        tag_list.append(tag)\n",
    "\n",
    "top_tags = Counter(tag_list)\n",
    "top_tags.most_common(25)"
   ]
  },
  {
   "cell_type": "code",
   "execution_count": 116,
   "metadata": {
    "collapsed": false
   },
   "outputs": [
    {
     "data": {
      "text/html": [
       "<div>\n",
       "<table border=\"1\" class=\"dataframe\">\n",
       "  <thead>\n",
       "    <tr style=\"text-align: right;\">\n",
       "      <th></th>\n",
       "      <th>Ticker(s)</th>\n",
       "      <th>Date</th>\n",
       "      <th>Headline Type</th>\n",
       "      <th>Headline Sub Type</th>\n",
       "      <th>Vendor</th>\n",
       "      <th>Headline</th>\n",
       "      <th>Tags</th>\n",
       "      <th>Text</th>\n",
       "      <th>Clean Text</th>\n",
       "      <th>Text Timing</th>\n",
       "      <th>Stock Reaction</th>\n",
       "    </tr>\n",
       "  </thead>\n",
       "  <tbody>\n",
       "    <tr>\n",
       "      <th>45</th>\n",
       "      <td>CLVS</td>\n",
       "      <td>11/16/15</td>\n",
       "      <td>Biotech</td>\n",
       "      <td>Regulatory</td>\n",
       "      <td>BusinessWire</td>\n",
       "      <td>clovis oncology announces regulatory update fo...</td>\n",
       "      <td>[S.BW, CLVS, CO.BW, .CO, CONFC.BW, .CC, FDA.BW...</td>\n",
       "      <td>november 16, 2015 13:00:00 utc\\rmid-cycle comm...</td>\n",
       "      <td>november 16, 2015 13:00:00 utc mid-cycle commu...</td>\n",
       "      <td>NaN</td>\n",
       "      <td>-70%</td>\n",
       "    </tr>\n",
       "    <tr>\n",
       "      <th>46</th>\n",
       "      <td>PTCT</td>\n",
       "      <td>2/23/16</td>\n",
       "      <td>Biotech</td>\n",
       "      <td>Regulatory</td>\n",
       "      <td>PR Newswire</td>\n",
       "      <td>ptc receives refuse to file letter from fda fo...</td>\n",
       "      <td>[S.PN, PTCT, NJ.PN, .NJ, .NASDAQ, HEA.PN, .HEA...</td>\n",
       "      <td>south plainfield, n.j., feb. 23, 2016 /prnewsw...</td>\n",
       "      <td>south plainfield, n.j., feb. 23, 2016 /prnewsw...</td>\n",
       "      <td>NaN</td>\n",
       "      <td>-60%</td>\n",
       "    </tr>\n",
       "    <tr>\n",
       "      <th>47</th>\n",
       "      <td>CLVS</td>\n",
       "      <td>4/8/16</td>\n",
       "      <td>Biotech</td>\n",
       "      <td>Regulatory</td>\n",
       "      <td>BusinessWire</td>\n",
       "      <td>fda posts briefing documents for advisory comm...</td>\n",
       "      <td>[S.BW, CLVS, BIOTC.BW, .BIOTECH, CLINT.BW, CO....</td>\n",
       "      <td>april 8, 2016 12:43:00 utc\\rclovis oncology, i...</td>\n",
       "      <td>april 8, 2016 12:43:00 utc clovis oncology, in...</td>\n",
       "      <td>NaN</td>\n",
       "      <td>-20%</td>\n",
       "    </tr>\n",
       "    <tr>\n",
       "      <th>48</th>\n",
       "      <td>FLXN</td>\n",
       "      <td>5/26/16</td>\n",
       "      <td>Biotech</td>\n",
       "      <td>Regulatory</td>\n",
       "      <td>Dow Jones</td>\n",
       "      <td>flexion therapeutics receives positive guidanc...</td>\n",
       "      <td>[S.DJ, FLXN, .NASDAQ, US33938J1060, I/DRG, .PH...</td>\n",
       "      <td>flexion therapeutics receives positive guidan...</td>\n",
       "      <td>flexion therapeutics receives positive guidanc...</td>\n",
       "      <td>NaN</td>\n",
       "      <td>40%</td>\n",
       "    </tr>\n",
       "    <tr>\n",
       "      <th>49</th>\n",
       "      <td>LPCN</td>\n",
       "      <td>6/29/16</td>\n",
       "      <td>Biotech</td>\n",
       "      <td>Regulatory</td>\n",
       "      <td>Dow Jones</td>\n",
       "      <td>lipocine receives complete response letter (cr...</td>\n",
       "      <td>[S.DJ, LPCN, .NASDAQ, US53630X1046, I/DRG, .PH...</td>\n",
       "      <td>lipocine receives complete response letter (cr...</td>\n",
       "      <td>lipocine receives complete response letter (cr...</td>\n",
       "      <td>NaN</td>\n",
       "      <td>-50%</td>\n",
       "    </tr>\n",
       "    <tr>\n",
       "      <th>50</th>\n",
       "      <td>MRK</td>\n",
       "      <td>8/5/16</td>\n",
       "      <td>Biotech</td>\n",
       "      <td>Regulatory</td>\n",
       "      <td>Dow Jones</td>\n",
       "      <td>merck announces us fda filing acceptance of ne...</td>\n",
       "      <td>[S.DJ, MRK, .NYSE, MRK-L, MCC-R, MRKC-T, MRK-F...</td>\n",
       "      <td>merck announces us fda filing acceptance of ne...</td>\n",
       "      <td>merck announces us fda filing acceptance of ne...</td>\n",
       "      <td>NaN</td>\n",
       "      <td>10%</td>\n",
       "    </tr>\n",
       "    <tr>\n",
       "      <th>51</th>\n",
       "      <td>BIIB</td>\n",
       "      <td>9/1/16</td>\n",
       "      <td>Biotech</td>\n",
       "      <td>Regulatory</td>\n",
       "      <td>Dow Jones</td>\n",
       "      <td>biogen's investigational alzheimer's disease t...</td>\n",
       "      <td>[S.DJ, BIIB, .NASDAQ, US09062X1037, I/BTC, .BI...</td>\n",
       "      <td>biogen's investigational alzheimer's disease t...</td>\n",
       "      <td>biogen's investigational alzheimer's disease t...</td>\n",
       "      <td>NaN</td>\n",
       "      <td>2%</td>\n",
       "    </tr>\n",
       "    <tr>\n",
       "      <th>52</th>\n",
       "      <td>CLVS</td>\n",
       "      <td>9/8/16</td>\n",
       "      <td>Biotech</td>\n",
       "      <td>Regulatory</td>\n",
       "      <td>Fly On The Wall</td>\n",
       "      <td>clovis says fda not currently planning advisor...</td>\n",
       "      <td>[S.FO, HOTS.FLY, CLVS]</td>\n",
       "      <td>clovis says fda not currently planning advisor...</td>\n",
       "      <td>clovis says fda not currently planning advisor...</td>\n",
       "      <td>NaN</td>\n",
       "      <td>15%</td>\n",
       "    </tr>\n",
       "    <tr>\n",
       "      <th>53</th>\n",
       "      <td>PTCT</td>\n",
       "      <td>10/17/16</td>\n",
       "      <td>Biotech</td>\n",
       "      <td>Regulatory</td>\n",
       "      <td>Dow Jones</td>\n",
       "      <td>ptc therapeutics provides regulatory update on...</td>\n",
       "      <td>[S.DJ, PTCT, .NASDAQ, US69366J2006, I/BTC, .BI...</td>\n",
       "      <td>ptc therapeutics provides regulatory update on...</td>\n",
       "      <td>ptc therapeutics provides regulatory update on...</td>\n",
       "      <td>NaN</td>\n",
       "      <td>-30%</td>\n",
       "    </tr>\n",
       "    <tr>\n",
       "      <th>54</th>\n",
       "      <td>KERX</td>\n",
       "      <td>11/9/16</td>\n",
       "      <td>Biotech</td>\n",
       "      <td>Regulatory</td>\n",
       "      <td>Dow Jones</td>\n",
       "      <td>keryx biopharmaceuticals announces us fda appr...</td>\n",
       "      <td>[S.DJ, KERX, .NASDAQ, US4925151015, I/BTC, .BI...</td>\n",
       "      <td>keryx biopharmaceuticals announces us fda appr...</td>\n",
       "      <td>keryx biopharmaceuticals announces us fda appr...</td>\n",
       "      <td>NaN</td>\n",
       "      <td>10%</td>\n",
       "    </tr>\n",
       "    <tr>\n",
       "      <th>55</th>\n",
       "      <td>DVAX</td>\n",
       "      <td>11/14/16</td>\n",
       "      <td>Biotech</td>\n",
       "      <td>Regulatory</td>\n",
       "      <td>MarketWired</td>\n",
       "      <td>dynavax receives complete response letter from...</td>\n",
       "      <td>[S.IW, DVAX, .NASDAQ, PBBI.IW, .PHARMA, PBDR.I...</td>\n",
       "      <td>berkeley, ca--(marketwired - november 14, 2016...</td>\n",
       "      <td>berkeley, ca--(marketwired - november 14, 2016...</td>\n",
       "      <td>NaN</td>\n",
       "      <td>-72%</td>\n",
       "    </tr>\n",
       "    <tr>\n",
       "      <th>56</th>\n",
       "      <td>FOLD</td>\n",
       "      <td>11/28/16</td>\n",
       "      <td>Biotech</td>\n",
       "      <td>Regulatory</td>\n",
       "      <td>Dow Jones GI</td>\n",
       "      <td>: amicus therapeutics announces us regulatory ...</td>\n",
       "      <td>[S.GI, FOLD, .NASDAQ, US03152W1099, I/BTC, .BI...</td>\n",
       "      <td>amicus therapeutics announces us regulatory pa...</td>\n",
       "      <td>amicus therapeutics announces us regulatory pa...</td>\n",
       "      <td>NaN</td>\n",
       "      <td>-25%</td>\n",
       "    </tr>\n",
       "  </tbody>\n",
       "</table>\n",
       "</div>"
      ],
      "text/plain": [
       "   Ticker(s)      Date Headline Type Headline Sub Type           Vendor                                           Headline                                               Tags                                               Text                                         Clean Text Text Timing Stock Reaction\n",
       "45      CLVS  11/16/15       Biotech        Regulatory     BusinessWire  clovis oncology announces regulatory update fo...  [S.BW, CLVS, CO.BW, .CO, CONFC.BW, .CC, FDA.BW...  november 16, 2015 13:00:00 utc\\rmid-cycle comm...  november 16, 2015 13:00:00 utc mid-cycle commu...         NaN           -70%\n",
       "46      PTCT   2/23/16       Biotech        Regulatory      PR Newswire  ptc receives refuse to file letter from fda fo...  [S.PN, PTCT, NJ.PN, .NJ, .NASDAQ, HEA.PN, .HEA...  south plainfield, n.j., feb. 23, 2016 /prnewsw...  south plainfield, n.j., feb. 23, 2016 /prnewsw...         NaN           -60%\n",
       "47      CLVS    4/8/16       Biotech        Regulatory     BusinessWire  fda posts briefing documents for advisory comm...  [S.BW, CLVS, BIOTC.BW, .BIOTECH, CLINT.BW, CO....  april 8, 2016 12:43:00 utc\\rclovis oncology, i...  april 8, 2016 12:43:00 utc clovis oncology, in...         NaN           -20%\n",
       "48      FLXN   5/26/16       Biotech        Regulatory        Dow Jones  flexion therapeutics receives positive guidanc...  [S.DJ, FLXN, .NASDAQ, US33938J1060, I/DRG, .PH...   flexion therapeutics receives positive guidan...  flexion therapeutics receives positive guidanc...         NaN            40%\n",
       "49      LPCN   6/29/16       Biotech        Regulatory        Dow Jones  lipocine receives complete response letter (cr...  [S.DJ, LPCN, .NASDAQ, US53630X1046, I/DRG, .PH...  lipocine receives complete response letter (cr...  lipocine receives complete response letter (cr...         NaN           -50%\n",
       "50       MRK    8/5/16       Biotech        Regulatory        Dow Jones  merck announces us fda filing acceptance of ne...  [S.DJ, MRK, .NYSE, MRK-L, MCC-R, MRKC-T, MRK-F...  merck announces us fda filing acceptance of ne...  merck announces us fda filing acceptance of ne...         NaN            10%\n",
       "51      BIIB    9/1/16       Biotech        Regulatory        Dow Jones  biogen's investigational alzheimer's disease t...  [S.DJ, BIIB, .NASDAQ, US09062X1037, I/BTC, .BI...  biogen's investigational alzheimer's disease t...  biogen's investigational alzheimer's disease t...         NaN             2%\n",
       "52      CLVS    9/8/16       Biotech        Regulatory  Fly On The Wall  clovis says fda not currently planning advisor...                             [S.FO, HOTS.FLY, CLVS]  clovis says fda not currently planning advisor...  clovis says fda not currently planning advisor...         NaN            15%\n",
       "53      PTCT  10/17/16       Biotech        Regulatory        Dow Jones  ptc therapeutics provides regulatory update on...  [S.DJ, PTCT, .NASDAQ, US69366J2006, I/BTC, .BI...  ptc therapeutics provides regulatory update on...  ptc therapeutics provides regulatory update on...         NaN           -30%\n",
       "54      KERX   11/9/16       Biotech        Regulatory        Dow Jones  keryx biopharmaceuticals announces us fda appr...  [S.DJ, KERX, .NASDAQ, US4925151015, I/BTC, .BI...  keryx biopharmaceuticals announces us fda appr...  keryx biopharmaceuticals announces us fda appr...         NaN            10%\n",
       "55      DVAX  11/14/16       Biotech        Regulatory      MarketWired  dynavax receives complete response letter from...  [S.IW, DVAX, .NASDAQ, PBBI.IW, .PHARMA, PBDR.I...  berkeley, ca--(marketwired - november 14, 2016...  berkeley, ca--(marketwired - november 14, 2016...         NaN           -72%\n",
       "56      FOLD  11/28/16       Biotech        Regulatory     Dow Jones GI  : amicus therapeutics announces us regulatory ...  [S.GI, FOLD, .NASDAQ, US03152W1099, I/BTC, .BI...  amicus therapeutics announces us regulatory pa...  amicus therapeutics announces us regulatory pa...         NaN           -25%"
      ]
     },
     "execution_count": 116,
     "metadata": {},
     "output_type": "execute_result"
    }
   ],
   "source": [
    "subsub"
   ]
  },
  {
   "cell_type": "code",
   "execution_count": 136,
   "metadata": {
    "collapsed": false
   },
   "outputs": [],
   "source": [
    "txt_list = subsub.Text\n",
    "heads_list = subsub.Headline\n",
    "\n",
    "with open('txtsoup.txt', 'w') as txts:\n",
    "    for line in txt_list:\n",
    "        txts.write(\"%s\\n\" % line)\n",
    "        \n",
    "with open('headsoup.txt', 'w') as hds:\n",
    "    for line in heads_list:\n",
    "        hds.write(\"%s\\n\" % line)\n",
    "\n",
    "bigram_measures = nltk.collocations.BigramAssocMeasures()\n",
    "trigram_measures = nltk.collocations.TrigramAssocMeasures()\n",
    "head_soup = '/Users/titans_bball30/Documents/Trlm/headsoup.txt'\n",
    "txt_soup = '/Users/titans_bball30/Documents/Trlm/txtsoup.txt'\n",
    "\n",
    "# find collocations\n",
    "head_bi_finder = BigramCollocationFinder.from_words(nltk.corpus.genesis.words(head_soup))\n",
    "head_tri_finder = TrigramCollocationFinder.from_words(nltk.corpus.genesis.words(head_soup))\n",
    "\n",
    "text_bi_finder = BigramCollocationFinder.from_words(nltk.corpus.genesis.words(txt_soup))\n",
    "text_tri_finder = TrigramCollocationFinder.from_words(nltk.corpus.genesis.words(txt_soup))\n",
    "\n",
    "\n",
    "# only bigrams that appear n+ times adjust for text vs headlines only\n",
    "head_bi_finder.apply_freq_filter(2) \n",
    "head_tri_finder.apply_freq_filter(2)\n",
    "\n",
    "text_bi_finder.apply_freq_filter(15) \n",
    "text_tri_finder.apply_freq_filter(15)\n",
    "\n",
    "#filter stopwords\n",
    "ignored_words = nltk.corpus.stopwords.words('english')\n",
    "head_bi_finder.apply_word_filter(lambda w: len(w) < 3 or w.lower() in ignored_words)\n",
    "head_tri_finder.apply_word_filter(lambda w: len(w) < 3 or w.lower() in ignored_words)\n",
    "\n",
    "text_bi_finder.apply_word_filter(lambda w: len(w) < 3 or w.lower() in ignored_words)\n",
    "text_tri_finder.apply_word_filter(lambda w: len(w) < 3 or w.lower() in ignored_words)\n"
   ]
  },
  {
   "cell_type": "code",
   "execution_count": 137,
   "metadata": {
    "collapsed": false
   },
   "outputs": [
    {
     "data": {
      "text/plain": [
       "[('advisory', 'committee'),\n",
       " ('committee', 'meeting'),\n",
       " ('complete', 'response'),\n",
       " ('regulatory', 'update'),\n",
       " ('response', 'letter'),\n",
       " ('drug', 'administration'),\n",
       " ('new', 'drug'),\n",
       " ('receives', 'complete'),\n",
       " ('drug', 'application')]"
      ]
     },
     "execution_count": 137,
     "metadata": {},
     "output_type": "execute_result"
    }
   ],
   "source": [
    "head_bi_finder.nbest(bigram_measures.pmi, 50)"
   ]
  },
  {
   "cell_type": "code",
   "execution_count": 138,
   "metadata": {
    "collapsed": false
   },
   "outputs": [
    {
     "data": {
      "text/plain": [
       "[('advisory', 'committee', 'meeting'),\n",
       " ('complete', 'response', 'letter'),\n",
       " ('receives', 'complete', 'response'),\n",
       " ('new', 'drug', 'application')]"
      ]
     },
     "execution_count": 138,
     "metadata": {},
     "output_type": "execute_result"
    }
   ],
   "source": [
    "head_tri_finder.nbest(trigram_measures.pmi, 25)"
   ]
  },
  {
   "cell_type": "code",
   "execution_count": 141,
   "metadata": {
    "collapsed": false
   },
   "outputs": [],
   "source": [
    "\n",
    "fp = open(head_soup, 'r')\n",
    "words = fp.read()\n",
    "words = nltk.tokenize.word_tokenize(words)\n",
    "\n",
    "words = [word for word in words if len(word) > 1]\n",
    "words = [word.lower() for word in words]\n",
    "fdist = FreqDist(words)"
   ]
  },
  {
   "cell_type": "code",
   "execution_count": 142,
   "metadata": {
    "collapsed": false
   },
   "outputs": [
    {
     "data": {
      "text/plain": [
       "FreqDist({'for': 15, 'fda': 7, 'us': 5, 'announces': 4, 'of': 4, 'drug': 4, 'receives': 4, 'from': 4, 'therapeutics': 3, 'regulatory': 3, ...})"
      ]
     },
     "execution_count": 142,
     "metadata": {},
     "output_type": "execute_result"
    }
   ],
   "source": [
    "fdist"
   ]
  },
  {
   "cell_type": "code",
   "execution_count": 22,
   "metadata": {
    "collapsed": false
   },
   "outputs": [],
   "source": [
    "import sys  \n",
    "\n",
    "reload(sys)  \n",
    "sys.setdefaultencoding('utf8')"
   ]
  },
  {
   "cell_type": "code",
   "execution_count": 127,
   "metadata": {
    "collapsed": false
   },
   "outputs": [],
   "source": [
    "\n",
    "\n",
    "hd_tokens = []\n",
    "stopset = set(stopwords.words('english'))\n",
    "with open(head_soup, 'r') as head:\n",
    "    hd = head.read()\n",
    "    tokens = nltk.word_tokenize(hd)\n",
    "    tokens = [w for w in tokens if not w in stopset]\n",
    "    hd_tokens.append(tokens)"
   ]
  }
 ],
 "metadata": {
  "kernelspec": {
   "display_name": "Python 2",
   "language": "python",
   "name": "python2"
  },
  "language_info": {
   "codemirror_mode": {
    "name": "ipython",
    "version": 2
   },
   "file_extension": ".py",
   "mimetype": "text/x-python",
   "name": "python",
   "nbconvert_exporter": "python",
   "pygments_lexer": "ipython2",
   "version": "2.7.10"
  }
 },
 "nbformat": 4,
 "nbformat_minor": 0
}
