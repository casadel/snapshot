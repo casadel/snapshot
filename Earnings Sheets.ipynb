{
 "cells": [
  {
   "cell_type": "code",
   "execution_count": 1,
   "metadata": {
    "collapsed": true
   },
   "outputs": [],
   "source": [
    "import numpy as np\n",
    "import scipy as sp\n",
    "import pandas as pd\n",
    "pd.set_option('display.width', 500)\n",
    "pd.set_option('display.max_columns', 100)\n",
    "pd.set_option('display.notebook_repr_html', True)\n",
    "\n",
    "from bs4 import BeautifulSoup\n",
    "import requests"
   ]
  },
  {
   "cell_type": "code",
   "execution_count": null,
   "metadata": {
    "collapsed": true
   },
   "outputs": [],
   "source": [
    "def get_earn_date(tik):\n",
    "    \n",
    "    \n",
    "    \n",
    "    \n",
    "    \n",
    "**TODO**\n",
    "**create the spreadsheet, fill it with functions\n",
    "**get earnings date time\n",
    "**get company name\n",
    "**get conference call time TTN\n",
    "*get earnings time TTN\n",
    "**get EPS current Q, next Q, current year, next year\n",
    "*get revenue current Q, next Q, current year, next yr\n",
    "*get 52 week range\n",
    "*get PE and Forward PE\n",
    "*get options moves\n"
   ]
  }
 ],
 "metadata": {
  "kernelspec": {
   "display_name": "Python 2",
   "language": "python",
   "name": "python2"
  },
  "language_info": {
   "codemirror_mode": {
    "name": "ipython",
    "version": 2
   },
   "file_extension": ".py",
   "mimetype": "text/x-python",
   "name": "python",
   "nbconvert_exporter": "python",
   "pygments_lexer": "ipython2",
   "version": "2.7.10"
  }
 },
 "nbformat": 4,
 "nbformat_minor": 0
}
